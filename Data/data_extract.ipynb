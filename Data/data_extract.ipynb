{
 "cells": [
  {
   "cell_type": "code",
   "execution_count": 78,
   "metadata": {},
   "outputs": [],
   "source": [
    "import os"
   ]
  },
  {
   "cell_type": "code",
   "execution_count": 152,
   "metadata": {},
   "outputs": [],
   "source": [
    "directory = 'data_folder/architecture-master'\n",
    "\n",
    "context, decision = [], []\n",
    "for filename in os.scandir(directory):\n",
    "    #if filename.path.endswith(\".md\") and filename.is_file():\n",
    "    with open(filename.path, 'r') as f:\n",
    "        content = f.read()\n",
    "        context.append(content[content.find('## Context')+12:content.find('## Decision')])\n",
    "        decision.append(content[content.find('## Decision')+13:content.find('## Status')])"
   ]
  },
  {
   "cell_type": "code",
   "execution_count": 153,
   "metadata": {},
   "outputs": [],
   "source": [
    "directory = 'data_folder/adr'\n",
    "\n",
    "#context, decision = [], [] # already defined\n",
    "for filename in os.scandir(directory):\n",
    "    #if filename.path.endswith(\".md\") and filename.is_file():\n",
    "    with open(filename.path, 'r') as f:\n",
    "        content = f.read()\n",
    "        context.append(content[2:content.find('## Decision')-2])\n",
    "        if ('## Pros and Cons' in content):\n",
    "            decision.append(content[content.find('## Decision')+21:content.find('## Pros and Cons')])\n",
    "        elif ('## License' in content):\n",
    "            decision.append(content[content.find('## Decision')+21:content.find('## License')])"
   ]
  },
  {
   "cell_type": "code",
   "execution_count": 154,
   "metadata": {},
   "outputs": [],
   "source": [
    "directory = 'data_folder/examples_extracted'\n",
    "\n",
    "#context, decision = [], [] # already defined\n",
    "for filename in os.scandir(directory):\n",
    "    with open(filename.path, 'r') as f:\n",
    "        content = f.read()\n",
    "        context.append(content[12:content.find('## Decision')])\n",
    "        decision.append(content[content.find('## Decision')+13:])"
   ]
  },
  {
   "cell_type": "code",
   "execution_count": 155,
   "metadata": {},
   "outputs": [],
   "source": [
    "directory = 'data_folder/cardano'\n",
    "\n",
    "#context, decision = [], []\n",
    "for filename in os.scandir(directory):\n",
    "    with open(filename.path, 'r', encoding='utf-8') as f:\n",
    "        content = f.read()\n",
    "        context.append(content[12:content.find('## Decision')-2])\n",
    "        decision.append(content[content.find('## Decision')+17:-2])"
   ]
  },
  {
   "cell_type": "code",
   "execution_count": 156,
   "metadata": {},
   "outputs": [],
   "source": [
    "\n",
    "directory = 'data_folder/island'\n",
    "#context, decision = [], []\n",
    "\n",
    "for filename in os.scandir(directory):\n",
    "    with open(filename, \"r\", encoding='utf-8') as f:\n",
    "        content = f.read()\n",
    "        if('\\nConsidered Options' in content):\n",
    "            context.append(content[content.find('Context and Problem Statement')+30:content.find('\\nConsidered Options')])\n",
    "        elif('\\nDecision Drivers' in content):\n",
    "            context.append(content[content.find('Context and Problem Statement')+30:content.find('\\nDecision Drivers')])\n",
    "        else:\n",
    "            context.append(content[content.find('Context and Problem Statement')+30:content.find('\\nDecision Outcome')])\n",
    "\n",
    "        if('\\nPros and Cons of ' in content):\n",
    "            decision.append(content[content.find('Decision Outcome')+17:content.find('\\nPros and Cons of ')])\n",
    "        else:\n",
    "            decision.append(content[content.find('Decision Outcome')+17:])\n",
    "\n"
   ]
  },
  {
   "cell_type": "code",
   "execution_count": 157,
   "metadata": {},
   "outputs": [
    {
     "data": {
      "text/plain": [
       "95"
      ]
     },
     "execution_count": 157,
     "metadata": {},
     "output_type": "execute_result"
    }
   ],
   "source": [
    "len(context)"
   ]
  },
  {
   "cell_type": "markdown",
   "metadata": {},
   "source": [
    "### Web scraping of ADR for *island*"
   ]
  },
  {
   "cell_type": "code",
   "execution_count": 54,
   "metadata": {},
   "outputs": [
    {
     "data": {
      "text/plain": [
       "'What API Management Tool to Consider'"
      ]
     },
     "execution_count": 54,
     "metadata": {},
     "output_type": "execute_result"
    }
   ],
   "source": [
    "import requests\n",
    "from bs4 import BeautifulSoup"
   ]
  },
  {
   "cell_type": "code",
   "execution_count": 76,
   "metadata": {},
   "outputs": [
    {
     "name": "stdout",
     "output_type": "stream",
     "text": [
      "https://docs.devland.is/technical-overview/adr/0000-use-markdown-architectural-decision-records\n",
      "https://docs.devland.is/technical-overview/adr/0001-use-nx\n",
      "https://docs.devland.is/technical-overview/adr/0002-continuous-integration\n",
      "https://docs.devland.is/technical-overview/adr/0003-css\n",
      "https://docs.devland.is/technical-overview/adr/0004-branching-and-release-strategy\n",
      "https://docs.devland.is/technical-overview/adr/0005-error-tracking-and-monitoring\n",
      "https://docs.devland.is/technical-overview/adr/0006-what-api-management-tool-to-consider\n",
      "https://docs.devland.is/technical-overview/adr/0007-viskuausan-static-site-generator\n",
      "https://docs.devland.is/technical-overview/adr/0008-use-oauth-and-openid-connect\n",
      "https://docs.devland.is/technical-overview/adr/0009-naming-files-and-directories\n",
      "https://docs.devland.is/technical-overview/adr/0010-cms\n",
      "https://docs.devland.is/technical-overview/adr/0011-open-source-license\n",
      "https://docs.devland.is/technical-overview/adr/0012-chart-library\n",
      "https://docs.devland.is/technical-overview/adr/0013-feature-flags\n",
      "https://docs.devland.is/technical-overview/adr/0014-logging-apm-monitoring\n"
     ]
    }
   ],
   "source": [
    "r = requests.get('https://docs.devland.is/technical-overview/adr')\n",
    "soup = BeautifulSoup(r.content, 'html.parser')\n",
    "acnhor = soup.find_all('a', class_='css-175oi2r r-1i6wzkk r-lrvibr r-1loqt21 r-1otgn73 r-1471scf')\n",
    "for a in acnhor[3:]:\n",
    "    link = 'https://docs.devland.is' + a.get('href')\n",
    "    f_name = link.split('/')[-1]\n",
    "\n",
    "    #print(link)\n",
    "    r = requests.get(link)\n",
    "    soup = BeautifulSoup(r.content, 'html.parser')\n",
    "    s = soup.find_all('div', class_='r-1oszu61 r-1xc7w19 r-1phboty r-1yadl64 r-deolkf r-6koalj r-eqz5dr r-crgep1 r-ifefl9 r-bcqeeo r-t60dpp r-bnwqim r-417010 r-1ro0kt6 r-16y2uox r-1wbh5a2')\n",
    "    text = []\n",
    "    for s_ in s:\n",
    "        text.append(s_.text)\n",
    "\n",
    "    text = '\\n'.join(text)\n",
    "    with open(\"data_folder/island/\"+f_name+\".txt\", \"w\", encoding='utf-8') as file:\n",
    "        file.write(text)"
   ]
  },
  {
   "cell_type": "code",
   "execution_count": 110,
   "metadata": {},
   "outputs": [],
   "source": [
    "\n",
    "directory = 'data_folder/island'\n",
    "context, decision = [], []\n",
    "\n",
    "for filename in os.scandir(directory):\n",
    "    with open(filename, \"r\", encoding='utf-8') as f:\n",
    "        content = f.read()\n",
    "        if('\\nConsidered Options' in content):\n",
    "            context.append(content[content.find('Context and Problem Statement')+30:content.find('\\nConsidered Options')])\n",
    "        elif('\\nDecision Drivers' in content):\n",
    "            context.append(content[content.find('Context and Problem Statement')+30:content.find('\\nDecision Drivers')])\n",
    "        else:\n",
    "            context.append(content[content.find('Context and Problem Statement')+30:content.find('\\nDecision Outcome')])\n",
    "\n",
    "        if('\\nPros and Cons of ' in content):\n",
    "            decision.append(content[content.find('Decision Outcome')+17:content.find('\\nPros and Cons of ')])\n",
    "        else:\n",
    "            decision.append(content[content.find('Decision Outcome')+17:])\n",
    "\n"
   ]
  },
  {
   "cell_type": "code",
   "execution_count": 113,
   "metadata": {},
   "outputs": [
    {
     "data": {
      "text/plain": [
       "'We recommend using hosted solution from AWS for API gateway. The reason is that if we look at the requirements and other architectural decisions in the project, the AWS solution does both fit in the architecture and pricing based on usage is cheaper than in other options. We made a pricing estimate for five years. Based on 100 million API calls per month the price of using AWS is one third of bought enterprise or homemade solutions. If the usage is 20 million API calls per month, we are looking at one fifth of the enterprise solutions. Note that there is also cost in using the management API and storage cost of logging, but it seems to be fraction of the total cost of using the product. Since the requirement is to host X-Road services that are defined as open and hosted at organization, we need to access the service through open X-Road server. Currently there will be installed X-Road server on AWS environment to use by island.is, that server can also be used by API gateway. Downside is that all request needs to go to the AWS environment, and then go back to Iceland. According to vendor lock in, then the investment cost of this option is not in the range that it will stop us to change to other solution. That could happen if requirement changes or the usage will be more than expected. This decision is based on the requirements and intended usage. If those requirements change, for example we would use the API portal as portal for Viskuausan, or more intense usage is expected, other options could be more relevant.\\nFollowing is the decision phases used to get this conclusion.\\nSecond phase of decision\\nFor Open Source tool, we recommend usage of Kong Community Edition, with custom made API Developer Portal and Analytics. The analytics part could be based on ELK stack through plugin. The Kong community is large, and there are some Developers Portals available in the Open Source community. There is also some plugin available for logging and monitoring available. Kong API Gateway provides rest interface that can be used for customizing API Portal, and ability to create custom plugins for custom implementations. This decision provides more custom code to be developed and we need to rely on that the community can provide plugins. We also rely on that the Kong product will remain open source, but lot of plugins are only available for Enterprise edition.\\nWSO2 could be considered, since the whole suite is Open Source, so API Developer Portal and Admin UI is part of their Open Source offering. It is not recommend to use it without paid support plan.\\nFor Vendor specific tool we recommend Software AG API Management. It is fully functional with customizable Developer Portal, and analysis tool. It has both partner and customers in Iceland. Current pricing model is based on transaction count and same applies for On-Prem vs. Hosted implementations. There are no cloud provider or runtime lock in. Implementation is that the tool needs to be installed and configured. The Developer Portal needs to be customized. For starter it is also option to host the installation at Advania for further evaluation. Analytics are fully integrated to ELK stack.\\nFor hosted solutions, we recommend AWS, since it best fits the architectural decisions made for island.is\\nFirst phase of decision\\nIn the first decision phase the following tools were initially pinpointed for further analysis. That was based on the option to run the API Management tool on premise. In decision outcome above, the tools have been narrowed to two options.\\nIf open source options are not a requirement, it is suggested to evaluate the following tools.\\n\\u200bSoftware AG API Management\\u200b\\u200bIBM API Connect\\u200b\\u200bGoogle Apigee Edge\\u200b\\u200bMulesoft Anypoint\\u200b\\u200bAxway Ampify\\u200b\\nThese are the tools that are most mature, and do not provide lock in for runtime platform. They need to be evaluated based on pricing and technical ability.\\nIf true open source is required, it is suggested to evaluate the following tools.\\n\\u200bWSO2\\u200b\\u200bKong\\u200b\\nThese tools provide open source offering, but in most cases the features for Api Developer Portal and Publishing tools are only part of enterprise offering with subscription. Evaluation is needed for validating if the open source offering of the tool contains what is needed for implementation. We need to evaluate pricing of enterprise offering against the price of creating/implementing required pieces, like custom Api Developer Portal.\\nFor hosted solution, the following options is considered\\n\\u200bAWS\\u200b\\u200bMicrosoft Azure API Management\\u200b\\u200bGoogle Apigee Edge\\u200b\\nDownside is that they are all platform dependent, to the owners proposed platform with more limited on-premise options. These are all top of the line tools according to capabilities.\\nFor all considered tools we need to check what underlying software components are required. For example, data storage, queuing, and logging capacity. We need to take into consideration effort and ability to build Developer portal, compared to customizing the tool offering.\\nOther tools that we looked at did in our opinion lack functionality or other ability for further considered, even though many of them could be considered. Note that the list provided is not all existing Api Management tools, so other options might apply.\\nPositive Consequences\\nApi Management tools are listed and grouped based on if they have open source option or not.\\nNegative Consequences\\nAll considered options are vendor lock in.'"
      ]
     },
     "execution_count": 113,
     "metadata": {},
     "output_type": "execute_result"
    }
   ],
   "source": [
    "decision[6]"
   ]
  },
  {
   "cell_type": "code",
   "execution_count": null,
   "metadata": {},
   "outputs": [],
   "source": []
  }
 ],
 "metadata": {
  "kernelspec": {
   "display_name": "Python 3 (ipykernel)",
   "language": "python",
   "name": "python3"
  },
  "language_info": {
   "codemirror_mode": {
    "name": "ipython",
    "version": 3
   },
   "file_extension": ".py",
   "mimetype": "text/x-python",
   "name": "python",
   "nbconvert_exporter": "python",
   "pygments_lexer": "ipython3",
   "version": "3.9.13"
  },
  "orig_nbformat": 4
 },
 "nbformat": 4,
 "nbformat_minor": 2
}
